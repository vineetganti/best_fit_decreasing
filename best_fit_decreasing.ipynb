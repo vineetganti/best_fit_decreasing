{
 "cells": [
  {
   "cell_type": "code",
   "execution_count": 16,
   "id": "d8c4ed7d",
   "metadata": {},
   "outputs": [],
   "source": [
    "def pack_items(items, bin_capacity):\n",
    "    # Sort items in decreasing order\n",
    "    sorted_items = sorted(items, reverse=True)\n",
    "    \n",
    "    # Initialize bins list with first bin\n",
    "    bins = [bin_capacity]\n",
    "    \n",
    "    # Pack each item in a bin\n",
    "    for item in sorted_items:\n",
    "        # Find the bin with the smallest remaining capacity that can fit the item\n",
    "        min_index = -1\n",
    "        min_capacity = bin_capacity + 1\n",
    "        for i, bin_capacity in enumerate(bins):\n",
    "            if item <= bin_capacity and bin_capacity < min_capacity:\n",
    "                min_index = i\n",
    "                min_capacity = bin_capacity\n",
    "        \n",
    "        # If no bin can fit the item, create a new bin\n",
    "        if min_index == -1:\n",
    "            bins.append(bin_capacity - item)\n",
    "        else:\n",
    "            # Pack the item in the selected bin\n",
    "            bins[min_index] -= item\n",
    "    \n",
    "    # Return the number of bins used\n",
    "    return len(bins)\n"
   ]
  },
  {
   "cell_type": "code",
   "execution_count": null,
   "id": "11d69d98",
   "metadata": {},
   "outputs": [],
   "source": []
  },
  {
   "cell_type": "code",
   "execution_count": 17,
   "id": "462ac3d7",
   "metadata": {},
   "outputs": [
    {
     "ename": "SyntaxError",
     "evalue": "invalid non-printable character U+00A0 (3380384283.py, line 5)",
     "output_type": "error",
     "traceback": [
      "\u001b[0;36m  Input \u001b[0;32mIn [17]\u001b[0;36m\u001b[0m\n\u001b[0;31m    \u001b[0m\n\u001b[0m    ^\u001b[0m\n\u001b[0;31mSyntaxError\u001b[0m\u001b[0;31m:\u001b[0m invalid non-printable character U+00A0\n"
     ]
    }
   ],
   "source": [
    "import pandas as pd\n",
    "items = pd.read_csv(\"/Users/vineet/Downloads/sample data to implement code.csv\")\n",
    "items.head(5)\n",
    "\n",
    "items.volume = items.DELIVERY_QUANTITY_LFIMG * items.VOLUME_VOLUM\n",
    "weight = list(sample.volume)\n",
    "\n",
    "# Call pack_items function with truck volume\n",
    "truck_volume = 9008\n",
    "num_bins = pack_items(items, truck_volume)\n",
    "\n",
    "print(f\"Number of bins used: {num_bins}\")\n"
   ]
  },
  {
   "cell_type": "code",
   "execution_count": 9,
   "id": "0f6dd4ab",
   "metadata": {},
   "outputs": [],
   "source": [
    "##Best fit (non-decreasing)"
   ]
  },
  {
   "cell_type": "code",
   "execution_count": 12,
   "id": "ae061125",
   "metadata": {},
   "outputs": [],
   "source": [
    "def pack_items(items, bin_capacity):\n",
    "    # Sort items in non-decreasing order\n",
    "    sorted_items = sorted(items)\n",
    "    \n",
    "    # Initialize bins list with first bin\n",
    "    bins = [bin_capacity]\n",
    "    \n",
    "    # Pack each item in a bin\n",
    "    for item in sorted_items:\n",
    "        # Find the bin with the smallest remaining capacity that can fit the item\n",
    "        min_index = -1\n",
    "        min_capacity = bin_capacity + 1\n",
    "        for i, bin_capacity in enumerate(bins):\n",
    "            if item <= bin_capacity and bin_capacity < min_capacity:\n",
    "                min_index = i\n",
    "                min_capacity = bin_capacity\n",
    "        \n",
    "        # If no bin can fit the item, create a new bin\n",
    "        if min_index == -1:\n",
    "            bins.append(bin_capacity - item)\n",
    "        else:\n",
    "            # Pack the item in the selected bin\n",
    "            bins[min_index] -= item\n",
    "    \n",
    "    # Return the number of bins used\n",
    "    return len(bins)\n"
   ]
  },
  {
   "cell_type": "code",
   "execution_count": 15,
   "id": "a550a931",
   "metadata": {},
   "outputs": [
    {
     "ename": "TypeError",
     "evalue": "can't multiply sequence by non-int of type 'list'",
     "output_type": "error",
     "traceback": [
      "\u001b[0;31m---------------------------------------------------------------------------\u001b[0m",
      "\u001b[0;31mTypeError\u001b[0m                                 Traceback (most recent call last)",
      "Input \u001b[0;32mIn [15]\u001b[0m, in \u001b[0;36m<cell line: 20>\u001b[0;34m()\u001b[0m\n\u001b[1;32m     10\u001b[0m delivery_quantities \u001b[38;5;241m=\u001b[39m [\u001b[38;5;241m50.0\u001b[39m, \u001b[38;5;241m4.0\u001b[39m, \u001b[38;5;241m300.0\u001b[39m, \u001b[38;5;241m8.0\u001b[39m, \u001b[38;5;241m150.0\u001b[39m, \u001b[38;5;241m50.0\u001b[39m, \u001b[38;5;241m2000.0\u001b[39m, \u001b[38;5;241m1.0\u001b[39m, \u001b[38;5;241m5.0\u001b[39m, \u001b[38;5;241m4.0\u001b[39m,\n\u001b[1;32m     11\u001b[0m                                              \u001b[38;5;241m6.0\u001b[39m, \u001b[38;5;241m20.0\u001b[39m, \u001b[38;5;241m1000.0\u001b[39m, \u001b[38;5;241m10.0\u001b[39m, \u001b[38;5;241m20.0\u001b[39m, \u001b[38;5;241m1.0\u001b[39m, \u001b[38;5;241m4.0\u001b[39m, \u001b[38;5;241m10.0\u001b[39m, \u001b[38;5;241m2000.0\u001b[39m,\n\u001b[1;32m     12\u001b[0m                                              \u001b[38;5;241m1000.0\u001b[39m, \u001b[38;5;241m1000.0\u001b[39m, \u001b[38;5;241m100.0\u001b[39m, \u001b[38;5;241m540.0\u001b[39m, \u001b[38;5;241m485.0\u001b[39m, \u001b[38;5;241m7.0\u001b[39m, \u001b[38;5;241m30.0\u001b[39m, \u001b[38;5;241m30.0\u001b[39m,\n\u001b[0;32m   (...)\u001b[0m\n\u001b[1;32m     16\u001b[0m                                              \u001b[38;5;241m200.0\u001b[39m, \u001b[38;5;241m100.0\u001b[39m, \u001b[38;5;241m250.0\u001b[39m, \u001b[38;5;241m50.0\u001b[39m, \u001b[38;5;241m100.0\u001b[39m, \u001b[38;5;241m50.0\u001b[39m, \u001b[38;5;241m1.0\u001b[39m, \u001b[38;5;241m10.0\u001b[39m, \u001b[38;5;241m50.0\u001b[39m,\n\u001b[1;32m     17\u001b[0m                                              \u001b[38;5;241m438.0\u001b[39m, \u001b[38;5;241m50.0\u001b[39m, \u001b[38;5;241m5.0\u001b[39m, \u001b[38;5;241m5.0\u001b[39m, \u001b[38;5;241m10.0\u001b[39m, \u001b[38;5;241m12000.0\u001b[39m]\n\u001b[1;32m     19\u001b[0m \u001b[38;5;66;03m# Flatten the list of delivery quantities\u001b[39;00m\n\u001b[0;32m---> 20\u001b[0m delivery_items \u001b[38;5;241m=\u001b[39m \u001b[43mitems\u001b[49m\u001b[38;5;241;43m*\u001b[39;49m\u001b[43mdelivery_quantities\u001b[49m\n\u001b[1;32m     22\u001b[0m \u001b[38;5;66;03m# Call pack_items function with truck volume\u001b[39;00m\n\u001b[1;32m     23\u001b[0m truck_volume \u001b[38;5;241m=\u001b[39m \u001b[38;5;241m9008\u001b[39m\n",
      "\u001b[0;31mTypeError\u001b[0m: can't multiply sequence by non-int of type 'list'"
     ]
    }
   ],
   "source": [
    "# Create list of items from volumes\n",
    "items = [6.12, 20.751, 0, 3.375, 1.125, 13.23, 48.72, 75, 7.656, 1454.756,\n",
    "         10.8, 0.331, 0, 0, 4304.841, 6.72, 14.117, 13.23, 0.48, 13.23,\n",
    "         10.938, 0, 0, 165.293, 16.041, 8.004, 4.32, 5.981, 2.204, 32.189,\n",
    "         0.125, 2.644, 0.135, 30.324, 147.001, 69.3, 1.523, 0.48, 0, 2.025,\n",
    "         18, 43.47, 26.352, 3.675, 82.767, 7.8, 1.464, 4.8, 10.201, 3.817,\n",
    "         9, 4.32, 8, 0.7, 0.66, 7.92, 2.24, 5830.223, 12.6, 0.48, 1.728]\n",
    "\n",
    "# Multiply delivery quantities with items variable\n",
    "delivery_quantities = [50.0, 4.0, 300.0, 8.0, 150.0, 50.0, 2000.0, 1.0, 5.0, 4.0,\n",
    "                                             6.0, 20.0, 1000.0, 10.0, 20.0, 1.0, 4.0, 10.0, 2000.0,\n",
    "                                             1000.0, 1000.0, 100.0, 540.0, 485.0, 7.0, 30.0, 30.0,\n",
    "                                             2.0, 50.0, 2.0, 1.0, 100.0, 2.0, 1.0, 2.0, 120.0, 3.0, 2.0,\n",
    "                                             2000.0, 1.0, 1.0, 2.0, 1.0, 2.0, 500.0, 26.0, 159.0, 1.0,\n",
    "                                             10.0, 190.0, 250.0, 10.0, 20.0, 100.0, 15.0, 100.0, 100.0,\n",
    "                                             200.0, 100.0, 250.0, 50.0, 100.0, 50.0, 1.0, 10.0, 50.0,\n",
    "                                             438.0, 50.0, 5.0, 5.0, 10.0, 12000.0]\n",
    "\n",
    "# Flatten the list of delivery quantities\n",
    "delivery_items = items * delivery_quantities\n",
    "\n",
    "# Call pack_items function with truck volume\n",
    "truck_volume = 9008\n",
    "num_bins = pack_items(delivery_items, truck_volume)\n",
    "\n",
    "print(f\"Number of bins used: {num_bins}\")\n",
    "\n"
   ]
  },
  {
   "cell_type": "code",
   "execution_count": null,
   "id": "0ac7382e",
   "metadata": {},
   "outputs": [],
   "source": []
  }
 ],
 "metadata": {
  "kernelspec": {
   "display_name": "Python 3 (ipykernel)",
   "language": "python",
   "name": "python3"
  },
  "language_info": {
   "codemirror_mode": {
    "name": "ipython",
    "version": 3
   },
   "file_extension": ".py",
   "mimetype": "text/x-python",
   "name": "python",
   "nbconvert_exporter": "python",
   "pygments_lexer": "ipython3",
   "version": "3.9.12"
  }
 },
 "nbformat": 4,
 "nbformat_minor": 5
}
